{
 "cells": [
  {
   "cell_type": "code",
   "execution_count": 3,
   "metadata": {
    "collapsed": true,
    "ExecuteTime": {
     "end_time": "2023-05-11T12:59:18.788686300Z",
     "start_time": "2023-05-11T12:59:18.444787800Z"
    }
   },
   "outputs": [],
   "source": [
    "import csv\n",
    "\n",
    "input_data = []\n",
    "\n",
    "with open('violations.csv', 'r') as f:\n",
    "    reader = csv.reader(f)\n",
    "\n",
    "    for line in reader:\n",
    "        input_data.append(line)"
   ]
  },
  {
   "cell_type": "code",
   "execution_count": 6,
   "outputs": [
    {
     "data": {
      "text/plain": "[['Summons Number',\n  'Plate ID',\n  'Registration State',\n  'Plate Type',\n  'Issue Date',\n  'Violation Code',\n  'Vehicle Body Type',\n  'Vehicle Make',\n  'Issuing Agency',\n  'Street Code1',\n  'Street Code2',\n  'Street Code3',\n  'Vehicle Expiration Date',\n  'Violation Location',\n  'Violation Precinct',\n  'Issuer Precinct',\n  'Issuer Code',\n  'Issuer Command',\n  'Issuer Squad',\n  'Violation Time',\n  'Time First Observed',\n  'Violation County',\n  'Violation In Front Of Or Opposite',\n  'House Number',\n  'Street Name',\n  'Intersecting Street',\n  'Date First Observed',\n  'Law Section',\n  'Sub Division',\n  'Violation Legal Code',\n  'Days Parking In Effect    ',\n  'From Hours In Effect',\n  'To Hours In Effect',\n  'Vehicle Color',\n  'Unregistered Vehicle?',\n  'Vehicle Year',\n  'Meter Number',\n  'Feet From Curb',\n  'Violation Post Code',\n  'Violation Description',\n  'No Standing or Stopping Violation',\n  'Hydrant Violation',\n  'Double Parking Violation'],\n ['4714702166',\n  'KGK6659',\n  'NY',\n  'PAS',\n  '11/12/2020',\n  '36',\n  '4DSD',\n  'BMW',\n  'V',\n  '0',\n  '0',\n  '0',\n  '0',\n  '',\n  '0',\n  '0',\n  '0',\n  '',\n  '',\n  '0637P',\n  '',\n  'BK',\n  '',\n  '',\n  'WB ATLANTIC AVE @ SH',\n  'EPHERD AVE',\n  '0',\n  '1180',\n  'B',\n  'T',\n  '',\n  '',\n  '',\n  'GY',\n  '',\n  '2007',\n  '',\n  '0',\n  '',\n  'PHTO SCHOOL ZN SPEED VIOLATION',\n  '',\n  '',\n  ''],\n ['8793684599',\n  'L5232HY',\n  'TN',\n  'PAS',\n  '09/14/2020',\n  '21',\n  'TRAC',\n  'INTER',\n  'T',\n  '60790',\n  '31140',\n  '31190',\n  '20200888',\n  '101.0',\n  '101',\n  '101',\n  '367421',\n  'T402',\n  'N',\n  '0853A',\n  '',\n  'Q',\n  'O',\n  '4212',\n  'Rockaway Beach Blvd',\n  '',\n  '0',\n  '408',\n  'D1',\n  '',\n  ' Y',\n  '0830A',\n  '1000A',\n  'WHITE',\n  '',\n  '0',\n  '',\n  '0',\n  'W',\n  '',\n  '',\n  '',\n  ''],\n ['8864757053',\n  'BPMN76',\n  'FL',\n  'PAS',\n  '11/25/2020',\n  '20',\n  'SUBN',\n  'NISSA',\n  'T',\n  '36030',\n  '31190',\n  '10610',\n  '20200688',\n  '28.0',\n  '28',\n  '28',\n  '367911',\n  'T103',\n  'FF',\n  '0853A',\n  '',\n  'NY',\n  'F',\n  '130',\n  'W 113th St',\n  '',\n  '0',\n  '408',\n  'd',\n  '',\n  'YYYYYYY',\n  '',\n  '',\n  'BLACK',\n  '',\n  '0',\n  '',\n  '0',\n  '49',\n  '20A-No Parking (Non-COM)',\n  '',\n  '',\n  '']]"
     },
     "execution_count": 6,
     "metadata": {},
     "output_type": "execute_result"
    }
   ],
   "source": [
    "input_data[:4]"
   ],
   "metadata": {
    "collapsed": false,
    "ExecuteTime": {
     "end_time": "2023-05-11T12:59:42.924954Z",
     "start_time": "2023-05-11T12:59:42.909897Z"
    }
   }
  },
  {
   "cell_type": "code",
   "execution_count": null,
   "outputs": [],
   "source": [],
   "metadata": {
    "collapsed": false
   }
  }
 ],
 "metadata": {
  "kernelspec": {
   "display_name": "Python 3",
   "language": "python",
   "name": "python3"
  },
  "language_info": {
   "codemirror_mode": {
    "name": "ipython",
    "version": 2
   },
   "file_extension": ".py",
   "mimetype": "text/x-python",
   "name": "python",
   "nbconvert_exporter": "python",
   "pygments_lexer": "ipython2",
   "version": "2.7.6"
  }
 },
 "nbformat": 4,
 "nbformat_minor": 0
}
