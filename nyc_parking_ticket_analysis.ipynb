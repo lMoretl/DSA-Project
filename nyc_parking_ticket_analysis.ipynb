{
 "cells": [
  {
   "cell_type": "code",
   "execution_count": 1,
   "metadata": {
    "collapsed": true,
    "ExecuteTime": {
     "end_time": "2023-05-11T13:56:34.004518800Z",
     "start_time": "2023-05-11T13:56:33.239426800Z"
    }
   },
   "outputs": [],
   "source": [
    "import pandas as pd\n",
    "\n",
    "df = pd.read_csv('violations.csv')"
   ]
  },
  {
   "cell_type": "code",
   "execution_count": 2,
   "outputs": [
    {
     "data": {
      "text/plain": "       Summons Number Plate ID Registration State Plate Type  Issue Date   \n0          4714702166  KGK6659                 NY        PAS  11/12/2020  \\\n1          8793684599  L5232HY                 TN        PAS  09/14/2020   \n2          8864757053   BPMN76                 FL        PAS  11/25/2020   \n3          8778326047  57387MJ                 NY        COM  08/20/2020   \n4          4706640702   M81KFJ                 NJ        PAS  09/09/2020   \n...               ...      ...                ...        ...         ...   \n49995      4014245755  JPN4910                 NY        PAS  06/25/2020   \n49996      8794437506   174ZYG                 CT        PAS  08/25/2020   \n49997      8849769581  HES6895                 NY        PAS  11/03/2020   \n49998      8755448173  63035MN                 NY        COM  08/19/2020   \n49999      8581527528  AW74165                 CT        PAS  08/06/2020   \n\n       Violation Code Vehicle Body Type Vehicle Make Issuing Agency   \n0                  36              4DSD          BMW              V  \\\n1                  21              TRAC        INTER              T   \n2                  20              SUBN        NISSA              T   \n3                  38               VAN          NaN              T   \n4                  36                UT        TOYOT              V   \n...               ...               ...          ...            ...   \n49995               5              PICK         FORD              V   \n49996              31              4DSD        TOYOT              T   \n49997              46              SUBN        CADIL              T   \n49998              40              DELV        ISUZU              T   \n49999              20              4DSD        HONDA              T   \n\n       Street Code1  ...  Vehicle Color  Unregistered Vehicle?  Vehicle Year   \n0                 0  ...             GY                    NaN          2007  \\\n1             60790  ...          WHITE                    NaN             0   \n2             36030  ...          BLACK                    NaN             0   \n3             34430  ...             WH                    NaN          2016   \n4                 0  ...            NaN                    NaN          2002   \n...             ...  ...            ...                    ...           ...   \n49995             0  ...             RD                    NaN          2019   \n49996         34030  ...          BLACK                    NaN             0   \n49997         27120  ...             RD                    NaN          2005   \n49998             0  ...             WH                    NaN          2020   \n49999         17860  ...          BLACK                    NaN             0   \n\n       Meter Number  Feet From Curb  Violation Post Code   \n0               NaN               0                  NaN  \\\n1               NaN               0                    W   \n2               NaN               0                   49   \n3               NaN               0                   01   \n4               NaN               0                  NaN   \n...             ...             ...                  ...   \n49995           NaN               0                  NaN   \n49996           NaN               0                   16   \n49997           NaN               0                    K   \n49998           NaN               5                   67   \n49999           NaN               0                    A   \n\n                Violation Description No Standing or Stopping Violation   \n0      PHTO SCHOOL ZN SPEED VIOLATION                               NaN  \\\n1                                 NaN                               NaN   \n2            20A-No Parking (Non-COM)                               NaN   \n3                                 NaN                               NaN   \n4      PHTO SCHOOL ZN SPEED VIOLATION                               NaN   \n...                               ...                               ...   \n49995              BUS LANE VIOLATION                               NaN   \n49996                             NaN                               NaN   \n49997                             NaN                               NaN   \n49998                             NaN                               NaN   \n49999                             NaN                               NaN   \n\n      Hydrant Violation Double Parking Violation  \n0                   NaN                      NaN  \n1                   NaN                      NaN  \n2                   NaN                      NaN  \n3                   NaN                      NaN  \n4                   NaN                      NaN  \n...                 ...                      ...  \n49995               NaN                      NaN  \n49996               NaN                      NaN  \n49997               NaN                      NaN  \n49998               NaN                      NaN  \n49999               NaN                      NaN  \n\n[50000 rows x 43 columns]",
      "text/html": "<div>\n<style scoped>\n    .dataframe tbody tr th:only-of-type {\n        vertical-align: middle;\n    }\n\n    .dataframe tbody tr th {\n        vertical-align: top;\n    }\n\n    .dataframe thead th {\n        text-align: right;\n    }\n</style>\n<table border=\"1\" class=\"dataframe\">\n  <thead>\n    <tr style=\"text-align: right;\">\n      <th></th>\n      <th>Summons Number</th>\n      <th>Plate ID</th>\n      <th>Registration State</th>\n      <th>Plate Type</th>\n      <th>Issue Date</th>\n      <th>Violation Code</th>\n      <th>Vehicle Body Type</th>\n      <th>Vehicle Make</th>\n      <th>Issuing Agency</th>\n      <th>Street Code1</th>\n      <th>...</th>\n      <th>Vehicle Color</th>\n      <th>Unregistered Vehicle?</th>\n      <th>Vehicle Year</th>\n      <th>Meter Number</th>\n      <th>Feet From Curb</th>\n      <th>Violation Post Code</th>\n      <th>Violation Description</th>\n      <th>No Standing or Stopping Violation</th>\n      <th>Hydrant Violation</th>\n      <th>Double Parking Violation</th>\n    </tr>\n  </thead>\n  <tbody>\n    <tr>\n      <th>0</th>\n      <td>4714702166</td>\n      <td>KGK6659</td>\n      <td>NY</td>\n      <td>PAS</td>\n      <td>11/12/2020</td>\n      <td>36</td>\n      <td>4DSD</td>\n      <td>BMW</td>\n      <td>V</td>\n      <td>0</td>\n      <td>...</td>\n      <td>GY</td>\n      <td>NaN</td>\n      <td>2007</td>\n      <td>NaN</td>\n      <td>0</td>\n      <td>NaN</td>\n      <td>PHTO SCHOOL ZN SPEED VIOLATION</td>\n      <td>NaN</td>\n      <td>NaN</td>\n      <td>NaN</td>\n    </tr>\n    <tr>\n      <th>1</th>\n      <td>8793684599</td>\n      <td>L5232HY</td>\n      <td>TN</td>\n      <td>PAS</td>\n      <td>09/14/2020</td>\n      <td>21</td>\n      <td>TRAC</td>\n      <td>INTER</td>\n      <td>T</td>\n      <td>60790</td>\n      <td>...</td>\n      <td>WHITE</td>\n      <td>NaN</td>\n      <td>0</td>\n      <td>NaN</td>\n      <td>0</td>\n      <td>W</td>\n      <td>NaN</td>\n      <td>NaN</td>\n      <td>NaN</td>\n      <td>NaN</td>\n    </tr>\n    <tr>\n      <th>2</th>\n      <td>8864757053</td>\n      <td>BPMN76</td>\n      <td>FL</td>\n      <td>PAS</td>\n      <td>11/25/2020</td>\n      <td>20</td>\n      <td>SUBN</td>\n      <td>NISSA</td>\n      <td>T</td>\n      <td>36030</td>\n      <td>...</td>\n      <td>BLACK</td>\n      <td>NaN</td>\n      <td>0</td>\n      <td>NaN</td>\n      <td>0</td>\n      <td>49</td>\n      <td>20A-No Parking (Non-COM)</td>\n      <td>NaN</td>\n      <td>NaN</td>\n      <td>NaN</td>\n    </tr>\n    <tr>\n      <th>3</th>\n      <td>8778326047</td>\n      <td>57387MJ</td>\n      <td>NY</td>\n      <td>COM</td>\n      <td>08/20/2020</td>\n      <td>38</td>\n      <td>VAN</td>\n      <td>NaN</td>\n      <td>T</td>\n      <td>34430</td>\n      <td>...</td>\n      <td>WH</td>\n      <td>NaN</td>\n      <td>2016</td>\n      <td>NaN</td>\n      <td>0</td>\n      <td>01</td>\n      <td>NaN</td>\n      <td>NaN</td>\n      <td>NaN</td>\n      <td>NaN</td>\n    </tr>\n    <tr>\n      <th>4</th>\n      <td>4706640702</td>\n      <td>M81KFJ</td>\n      <td>NJ</td>\n      <td>PAS</td>\n      <td>09/09/2020</td>\n      <td>36</td>\n      <td>UT</td>\n      <td>TOYOT</td>\n      <td>V</td>\n      <td>0</td>\n      <td>...</td>\n      <td>NaN</td>\n      <td>NaN</td>\n      <td>2002</td>\n      <td>NaN</td>\n      <td>0</td>\n      <td>NaN</td>\n      <td>PHTO SCHOOL ZN SPEED VIOLATION</td>\n      <td>NaN</td>\n      <td>NaN</td>\n      <td>NaN</td>\n    </tr>\n    <tr>\n      <th>...</th>\n      <td>...</td>\n      <td>...</td>\n      <td>...</td>\n      <td>...</td>\n      <td>...</td>\n      <td>...</td>\n      <td>...</td>\n      <td>...</td>\n      <td>...</td>\n      <td>...</td>\n      <td>...</td>\n      <td>...</td>\n      <td>...</td>\n      <td>...</td>\n      <td>...</td>\n      <td>...</td>\n      <td>...</td>\n      <td>...</td>\n      <td>...</td>\n      <td>...</td>\n      <td>...</td>\n    </tr>\n    <tr>\n      <th>49995</th>\n      <td>4014245755</td>\n      <td>JPN4910</td>\n      <td>NY</td>\n      <td>PAS</td>\n      <td>06/25/2020</td>\n      <td>5</td>\n      <td>PICK</td>\n      <td>FORD</td>\n      <td>V</td>\n      <td>0</td>\n      <td>...</td>\n      <td>RD</td>\n      <td>NaN</td>\n      <td>2019</td>\n      <td>NaN</td>\n      <td>0</td>\n      <td>NaN</td>\n      <td>BUS LANE VIOLATION</td>\n      <td>NaN</td>\n      <td>NaN</td>\n      <td>NaN</td>\n    </tr>\n    <tr>\n      <th>49996</th>\n      <td>8794437506</td>\n      <td>174ZYG</td>\n      <td>CT</td>\n      <td>PAS</td>\n      <td>08/25/2020</td>\n      <td>31</td>\n      <td>4DSD</td>\n      <td>TOYOT</td>\n      <td>T</td>\n      <td>34030</td>\n      <td>...</td>\n      <td>BLACK</td>\n      <td>NaN</td>\n      <td>0</td>\n      <td>NaN</td>\n      <td>0</td>\n      <td>16</td>\n      <td>NaN</td>\n      <td>NaN</td>\n      <td>NaN</td>\n      <td>NaN</td>\n    </tr>\n    <tr>\n      <th>49997</th>\n      <td>8849769581</td>\n      <td>HES6895</td>\n      <td>NY</td>\n      <td>PAS</td>\n      <td>11/03/2020</td>\n      <td>46</td>\n      <td>SUBN</td>\n      <td>CADIL</td>\n      <td>T</td>\n      <td>27120</td>\n      <td>...</td>\n      <td>RD</td>\n      <td>NaN</td>\n      <td>2005</td>\n      <td>NaN</td>\n      <td>0</td>\n      <td>K</td>\n      <td>NaN</td>\n      <td>NaN</td>\n      <td>NaN</td>\n      <td>NaN</td>\n    </tr>\n    <tr>\n      <th>49998</th>\n      <td>8755448173</td>\n      <td>63035MN</td>\n      <td>NY</td>\n      <td>COM</td>\n      <td>08/19/2020</td>\n      <td>40</td>\n      <td>DELV</td>\n      <td>ISUZU</td>\n      <td>T</td>\n      <td>0</td>\n      <td>...</td>\n      <td>WH</td>\n      <td>NaN</td>\n      <td>2020</td>\n      <td>NaN</td>\n      <td>5</td>\n      <td>67</td>\n      <td>NaN</td>\n      <td>NaN</td>\n      <td>NaN</td>\n      <td>NaN</td>\n    </tr>\n    <tr>\n      <th>49999</th>\n      <td>8581527528</td>\n      <td>AW74165</td>\n      <td>CT</td>\n      <td>PAS</td>\n      <td>08/06/2020</td>\n      <td>20</td>\n      <td>4DSD</td>\n      <td>HONDA</td>\n      <td>T</td>\n      <td>17860</td>\n      <td>...</td>\n      <td>BLACK</td>\n      <td>NaN</td>\n      <td>0</td>\n      <td>NaN</td>\n      <td>0</td>\n      <td>A</td>\n      <td>NaN</td>\n      <td>NaN</td>\n      <td>NaN</td>\n      <td>NaN</td>\n    </tr>\n  </tbody>\n</table>\n<p>50000 rows × 43 columns</p>\n</div>"
     },
     "execution_count": 2,
     "metadata": {},
     "output_type": "execute_result"
    }
   ],
   "source": [
    "df"
   ],
   "metadata": {
    "collapsed": false,
    "ExecuteTime": {
     "end_time": "2023-05-11T14:00:16.024158Z",
     "start_time": "2023-05-11T14:00:15.943754100Z"
    }
   }
  },
  {
   "cell_type": "code",
   "execution_count": null,
   "outputs": [],
   "source": [],
   "metadata": {
    "collapsed": false
   }
  }
 ],
 "metadata": {
  "kernelspec": {
   "display_name": "Python 3",
   "language": "python",
   "name": "python3"
  },
  "language_info": {
   "codemirror_mode": {
    "name": "ipython",
    "version": 2
   },
   "file_extension": ".py",
   "mimetype": "text/x-python",
   "name": "python",
   "nbconvert_exporter": "python",
   "pygments_lexer": "ipython2",
   "version": "2.7.6"
  }
 },
 "nbformat": 4,
 "nbformat_minor": 0
}
